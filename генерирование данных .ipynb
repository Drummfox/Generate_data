{
 "cells": [
  {
   "cell_type": "code",
   "execution_count": 6,
   "id": "8f16c0bd",
   "metadata": {},
   "outputs": [
    {
     "name": "stdout",
     "output_type": "stream",
     "text": [
      "0, '2023-06-12 00:00:00'\n",
      "\n",
      "1, '2023-06-24 00:00:00'\n",
      "\n",
      "2, '2023-06-11 00:00:00'\n",
      "\n",
      "3, '2023-06-17 00:00:00'\n",
      "\n",
      "4, '2023-06-05 00:00:00'\n",
      "\n",
      "5, '2023-06-04 00:00:00'\n",
      "\n",
      "6, '2023-06-05 00:00:00'\n",
      "\n",
      "7, '2023-06-09 00:00:00'\n",
      "\n",
      "8, '2023-06-05 00:00:00'\n",
      "\n",
      "9, '2023-06-26 00:00:00'\n",
      "\n"
     ]
    }
   ],
   "source": [
    "import datetime as dt\n",
    "import pandas as pd\n",
    "from random import randint\n",
    "\n",
    "start_date = dt.datetime(2023, 6, 1)\n",
    "end_date = dt.datetime(2023, 6, 30)\n",
    "cont_date = pd.date_range(\n",
    "    min(start_date, end_date),\n",
    "    max(start_date, end_date)\n",
    ").tolist()\n",
    "len_date = len(cont_date)-1\n",
    "dict_users = {}\n",
    "for i in range(10):\n",
    "    reg_date = cont_date[randint(0, len_date)]\n",
    "    dict_users[i] = reg_date\n",
    "\n",
    "# for index, value in dict_users.items():\n",
    "#     print(f\"{index}, '{value}'\\n\")\n",
    "    \n",
    "with open ('users.csv', 'w') as f2w:\n",
    "    for index, value in dict_users.items():\n",
    "        f2w.write(f\"{index}, '{value}'\\n\")"
   ]
  },
  {
   "cell_type": "code",
   "execution_count": 121,
   "id": "7e9ddca1",
   "metadata": {},
   "outputs": [
    {
     "name": "stdout",
     "output_type": "stream",
     "text": [
      "0 'X5-Пятерочка', 'Еда'\n",
      "1 'Decathlon', 'Мода'\n",
      "2 'Adidas', 'Мода'\n",
      "3 'Лента', 'Еда'\n",
      "4 'Перекресток', 'Еда'\n"
     ]
    }
   ],
   "source": [
    "brand_list = [\"'X5-Пятерочка', 'Еда'\", \"'Decathlon', 'Мода'\", \"'Adidas', 'Мода'\", \"'Лента', 'Еда'\", \"'Перекресток', 'Еда'\" ]\n",
    "\n",
    "len_brand_list = len(brand_list)\n",
    "for i in range(len_brand_list):\n",
    "    print(f\"{i} {brand_list[i]}\")\n",
    "\n",
    "with open ('brands.csv', 'w') as f2w:\n",
    "    for i in range(len_brand_list):\n",
    "        f2w.write(f\"{i}, {brand_list[i]}\\n\")"
   ]
  },
  {
   "cell_type": "code",
   "execution_count": 122,
   "id": "9027317a",
   "metadata": {},
   "outputs": [],
   "source": [
    "status_list = ['REJECTED', 'ACCEPTED', 'EXPIRED']\n",
    "\n",
    "with open ('events.csv', 'w') as f2w:\n",
    "    for i in range(200):\n",
    "        user_id = randint(0, 9)\n",
    "        brand_id = randint(0, 6)\n",
    "        date_start = dict_users[user_id]\n",
    "        index_date_reg = cont_date.index(dict_users[user_id])\n",
    "        user_date_list = cont_date[index_date_reg:]\n",
    "        len_user_date_list = len(user_date_list) - 1\n",
    "        start_vac_time = user_date_list[randint(0, len_user_date_list)]\n",
    "        vac_status = status_list[randint(0, 2)]\n",
    "        f2w.write(f\"{i}, {user_id}, {brand_id}, '{start_vac_time}', '{vac_status}'\\n\")"
   ]
  },
  {
   "cell_type": "code",
   "execution_count": null,
   "id": "ed3274f0",
   "metadata": {},
   "outputs": [],
   "source": []
  }
 ],
 "metadata": {
  "kernelspec": {
   "display_name": "Python 3 (ipykernel)",
   "language": "python",
   "name": "python3"
  },
  "language_info": {
   "codemirror_mode": {
    "name": "ipython",
    "version": 3
   },
   "file_extension": ".py",
   "mimetype": "text/x-python",
   "name": "python",
   "nbconvert_exporter": "python",
   "pygments_lexer": "ipython3",
   "version": "3.10.9"
  }
 },
 "nbformat": 4,
 "nbformat_minor": 5
}
